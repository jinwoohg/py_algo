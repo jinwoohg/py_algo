{
 "cells": [
  {
   "cell_type": "code",
   "execution_count": 28,
   "metadata": {},
   "outputs": [],
   "source": [
    "def selection_sort(array): # 현재 수와 가장 작은 수와 위치를 바꿔주면서 진행\n",
    "    \n",
    "    for i in range(len(array)):\n",
    "        min_index = i\n",
    "        for j in range(i+1, len(array)):\n",
    "            if array[min_index] > array[j]:\n",
    "                min_index = j   \n",
    "        array[i], array[min_index] = array[min_index], array[i]\n",
    "        \n",
    "    return array"
   ]
  },
  {
   "cell_type": "code",
   "execution_count": 29,
   "metadata": {},
   "outputs": [],
   "source": [
    "def insertion_sort(array): #왼쪽에 대해서만 위치를 바꿔주면서 진행\n",
    "\n",
    "    for i in range(1, len(array)):\n",
    "        for j in range(i,0,-1):\n",
    "            if array[j] < array[j-1]:\n",
    "                array[j], array[j-1] = array[j-1], array[j]\n",
    "            else:\n",
    "                break\n",
    "                \n",
    "    return array"
   ]
  },
  {
   "cell_type": "code",
   "execution_count": 47,
   "metadata": {},
   "outputs": [],
   "source": [
    "def quick_sort(array): # 피벗과 비교해 순서 변경 및 파티션을 나눠주면서 진행\n",
    "    if len(array) <= 1:\n",
    "        return array\n",
    "    pivot = array[0]\n",
    "    tail = array[1:]\n",
    "    \n",
    "    left_side = [x for x in tail if x<= pivot]\n",
    "    right_side = [x for x in tail if x > pivot]\n",
    "    \n",
    "    return quick_sort(left_side) + [pivot] + quick_sort(right_side)\n",
    "    \n",
    "    "
   ]
  },
  {
   "cell_type": "code",
   "execution_count": 54,
   "metadata": {},
   "outputs": [],
   "source": [
    "def count_sort(array):\n",
    "    answer = []\n",
    "    count = [0] * (max(array)+1)\n",
    "    for i in range(len(array)):\n",
    "        count[array[i]] += 1\n",
    "\n",
    "    for i in range(len(count)):\n",
    "        for j in range(count[i]):\n",
    "            answer.append(i)\n",
    "    return answer\n",
    "    "
   ]
  },
  {
   "cell_type": "code",
   "execution_count": 21,
   "metadata": {},
   "outputs": [
    {
     "data": {
      "text/plain": [
       "[0, 1, 3, 5, 7, 9]"
      ]
     },
     "execution_count": 21,
     "metadata": {},
     "output_type": "execute_result"
    }
   ],
   "source": [
    "array = [7,5,9,0,3,1]\n",
    "selection_sort(array)"
   ]
  },
  {
   "cell_type": "code",
   "execution_count": 20,
   "metadata": {},
   "outputs": [
    {
     "data": {
      "text/plain": [
       "[0, 1, 3, 5, 7, 9]"
      ]
     },
     "execution_count": 20,
     "metadata": {},
     "output_type": "execute_result"
    }
   ],
   "source": [
    "array = [7,5,9,0,3,1]\n",
    "insertion_sort(array)"
   ]
  },
  {
   "cell_type": "code",
   "execution_count": 48,
   "metadata": {},
   "outputs": [
    {
     "data": {
      "text/plain": [
       "[0, 1, 3, 5, 7, 9]"
      ]
     },
     "execution_count": 48,
     "metadata": {},
     "output_type": "execute_result"
    }
   ],
   "source": [
    "array = [7,5,9,0,3,1]\n",
    "quick_sort(array)"
   ]
  },
  {
   "cell_type": "code",
   "execution_count": 55,
   "metadata": {},
   "outputs": [
    {
     "data": {
      "text/plain": [
       "[0, 1, 3, 5, 7, 9]"
      ]
     },
     "execution_count": 55,
     "metadata": {},
     "output_type": "execute_result"
    }
   ],
   "source": [
    "array = [7,5,9,0,3,1]\n",
    "count_sort(array)"
   ]
  }
 ],
 "metadata": {
  "kernelspec": {
   "display_name": "Python 3",
   "language": "python",
   "name": "python3"
  },
  "language_info": {
   "codemirror_mode": {
    "name": "ipython",
    "version": 3
   },
   "file_extension": ".py",
   "mimetype": "text/x-python",
   "name": "python",
   "nbconvert_exporter": "python",
   "pygments_lexer": "ipython3",
   "version": "3.7.4"
  }
 },
 "nbformat": 4,
 "nbformat_minor": 2
}
